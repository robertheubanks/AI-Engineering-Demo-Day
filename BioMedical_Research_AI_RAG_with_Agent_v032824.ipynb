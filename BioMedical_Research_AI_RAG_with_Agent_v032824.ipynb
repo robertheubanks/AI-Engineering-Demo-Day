{
  "nbformat": 4,
  "nbformat_minor": 0,
  "metadata": {
    "colab": {
      "provenance": [],
      "gpuType": "T4",
      "include_colab_link": true
    },
    "kernelspec": {
      "name": "python3",
      "display_name": "Python 3"
    },
    "language_info": {
      "name": "python"
    }
  },
  "cells": [
    {
      "cell_type": "markdown",
      "metadata": {
        "id": "view-in-github",
        "colab_type": "text"
      },
      "source": [
        "<a href=\"https://colab.research.google.com/github/robertheubanks/AI-Engineering-Demo-Day/blob/main/BioMedical_Research_AI_RAG_with_Agent_v032824.ipynb\" target=\"_parent\"><img src=\"https://colab.research.google.com/assets/colab-badge.svg\" alt=\"Open In Colab\"/></a>"
      ]
    },
    {
      "cell_type": "code",
      "source": [
        " # This code block installs the required libraries for the project.\n",
        " !pip install -qU langchain langchain_openai langgraph arxiv duckduckgo-search pubmed wolframalpha xmltodict\n"
      ],
      "metadata": {
        "id": "nWYSPPYHj-7o",
        "colab": {
          "base_uri": "https://localhost:8080/"
        },
        "outputId": "351e5b71-8043-4c59-e392-e03cca157675"
      },
      "execution_count": 1,
      "outputs": [
        {
          "output_type": "stream",
          "name": "stdout",
          "text": [
            "\u001b[2K     \u001b[90m━━━━━━━━━━━━━━━━━━━━━━━━━━━━━━━━━━━━━━━━\u001b[0m \u001b[32m810.5/810.5 kB\u001b[0m \u001b[31m3.2 MB/s\u001b[0m eta \u001b[36m0:00:00\u001b[0m\n",
            "\u001b[2K     \u001b[90m━━━━━━━━━━━━━━━━━━━━━━━━━━━━━━━━━━━━━━━━\u001b[0m \u001b[32m52.4/52.4 kB\u001b[0m \u001b[31m2.5 MB/s\u001b[0m eta \u001b[36m0:00:00\u001b[0m\n",
            "\u001b[?25h  Preparing metadata (setup.py) ... \u001b[?25l\u001b[?25hdone\n",
            "\u001b[2K     \u001b[90m━━━━━━━━━━━━━━━━━━━━━━━━━━━━━━━━━━━━━━━━\u001b[0m \u001b[32m1.8/1.8 MB\u001b[0m \u001b[31m12.9 MB/s\u001b[0m eta \u001b[36m0:00:00\u001b[0m\n",
            "\u001b[2K     \u001b[90m━━━━━━━━━━━━━━━━━━━━━━━━━━━━━━━━━━━━━━━━\u001b[0m \u001b[32m273.0/273.0 kB\u001b[0m \u001b[31m15.5 MB/s\u001b[0m eta \u001b[36m0:00:00\u001b[0m\n",
            "\u001b[2K     \u001b[90m━━━━━━━━━━━━━━━━━━━━━━━━━━━━━━━━━━━━━━━━\u001b[0m \u001b[32m86.9/86.9 kB\u001b[0m \u001b[31m3.9 MB/s\u001b[0m eta \u001b[36m0:00:00\u001b[0m\n",
            "\u001b[2K     \u001b[90m━━━━━━━━━━━━━━━━━━━━━━━━━━━━━━━━━━━━━━━━\u001b[0m \u001b[32m262.9/262.9 kB\u001b[0m \u001b[31m11.9 MB/s\u001b[0m eta \u001b[36m0:00:00\u001b[0m\n",
            "\u001b[2K     \u001b[90m━━━━━━━━━━━━━━━━━━━━━━━━━━━━━━━━━━━━━━━━\u001b[0m \u001b[32m1.8/1.8 MB\u001b[0m \u001b[31m19.1 MB/s\u001b[0m eta \u001b[36m0:00:00\u001b[0m\n",
            "\u001b[2K     \u001b[90m━━━━━━━━━━━━━━━━━━━━━━━━━━━━━━━━━━━━━━━━\u001b[0m \u001b[32m81.1/81.1 kB\u001b[0m \u001b[31m5.4 MB/s\u001b[0m eta \u001b[36m0:00:00\u001b[0m\n",
            "\u001b[?25h  Preparing metadata (setup.py) ... \u001b[?25l\u001b[?25hdone\n",
            "\u001b[2K     \u001b[90m━━━━━━━━━━━━━━━━━━━━━━━━━━━━━━━━━━━━━━━━\u001b[0m \u001b[32m5.7/5.7 MB\u001b[0m \u001b[31m30.3 MB/s\u001b[0m eta \u001b[36m0:00:00\u001b[0m\n",
            "\u001b[2K     \u001b[90m━━━━━━━━━━━━━━━━━━━━━━━━━━━━━━━━━━━━━━━━\u001b[0m \u001b[32m144.8/144.8 kB\u001b[0m \u001b[31m4.2 MB/s\u001b[0m eta \u001b[36m0:00:00\u001b[0m\n",
            "\u001b[2K     \u001b[90m━━━━━━━━━━━━━━━━━━━━━━━━━━━━━━━━━━━━━━━━\u001b[0m \u001b[32m49.4/49.4 kB\u001b[0m \u001b[31m3.3 MB/s\u001b[0m eta \u001b[36m0:00:00\u001b[0m\n",
            "\u001b[2K     \u001b[90m━━━━━━━━━━━━━━━━━━━━━━━━━━━━━━━━━━━━━━━━\u001b[0m \u001b[32m53.0/53.0 kB\u001b[0m \u001b[31m3.2 MB/s\u001b[0m eta \u001b[36m0:00:00\u001b[0m\n",
            "\u001b[2K     \u001b[90m━━━━━━━━━━━━━━━━━━━━━━━━━━━━━━━━━━━━━━━━\u001b[0m \u001b[32m75.6/75.6 kB\u001b[0m \u001b[31m4.8 MB/s\u001b[0m eta \u001b[36m0:00:00\u001b[0m\n",
            "\u001b[2K     \u001b[90m━━━━━━━━━━━━━━━━━━━━━━━━━━━━━━━━━━━━━━━━\u001b[0m \u001b[32m77.9/77.9 kB\u001b[0m \u001b[31m6.5 MB/s\u001b[0m eta \u001b[36m0:00:00\u001b[0m\n",
            "\u001b[2K     \u001b[90m━━━━━━━━━━━━━━━━━━━━━━━━━━━━━━━━━━━━━━━━\u001b[0m \u001b[32m58.3/58.3 kB\u001b[0m \u001b[31m4.6 MB/s\u001b[0m eta \u001b[36m0:00:00\u001b[0m\n",
            "\u001b[?25h  Building wheel for pubmed (setup.py) ... \u001b[?25l\u001b[?25hdone\n",
            "  Building wheel for sgmllib3k (setup.py) ... \u001b[?25l\u001b[?25hdone\n"
          ]
        }
      ]
    },
    {
      "cell_type": "code",
      "source": [
        "# This code block installs additional libraries:\n",
        "!pip install -qU faiss-cpu pymupdf"
      ],
      "metadata": {
        "colab": {
          "base_uri": "https://localhost:8080/"
        },
        "id": "UBvTZ-JshKuo",
        "outputId": "436a318b-ed2d-4d4b-8ee0-6e3359e475ae"
      },
      "execution_count": 2,
      "outputs": [
        {
          "output_type": "stream",
          "name": "stdout",
          "text": [
            "\u001b[2K     \u001b[90m━━━━━━━━━━━━━━━━━━━━━━━━━━━━━━━━━━━━━━━━\u001b[0m \u001b[32m27.0/27.0 MB\u001b[0m \u001b[31m31.5 MB/s\u001b[0m eta \u001b[36m0:00:00\u001b[0m\n",
            "\u001b[2K     \u001b[90m━━━━━━━━━━━━━━━━━━━━━━━━━━━━━━━━━━━━━━━━\u001b[0m \u001b[32m3.9/3.9 MB\u001b[0m \u001b[31m52.5 MB/s\u001b[0m eta \u001b[36m0:00:00\u001b[0m\n",
            "\u001b[2K     \u001b[90m━━━━━━━━━━━━━━━━━━━━━━━━━━━━━━━━━━━━━━━━\u001b[0m \u001b[32m30.8/30.8 MB\u001b[0m \u001b[31m23.3 MB/s\u001b[0m eta \u001b[36m0:00:00\u001b[0m\n",
            "\u001b[?25h"
          ]
        }
      ]
    },
    {
      "cell_type": "code",
      "source": [
        "# This code block imports the necessary modules: os for interacting with the operating system and getpass for securely prompting the user for input without echoing the input to the console.\n",
        "import os\n",
        "import getpass\n",
        "\n",
        "os.environ[\"OPENAI_API_KEY\"] = getpass.getpass(\"OpenAI API Key:\")"
      ],
      "metadata": {
        "colab": {
          "base_uri": "https://localhost:8080/"
        },
        "id": "Jdh8CoVWHRvs",
        "outputId": "4175ae1d-4ce9-4f59-8d69-ef14192396ef"
      },
      "execution_count": 3,
      "outputs": [
        {
          "name": "stdout",
          "output_type": "stream",
          "text": [
            "OpenAI API Key:··········\n"
          ]
        }
      ]
    },
    {
      "cell_type": "code",
      "source": [
        "# Similar to the previous code block, this one prompts the user to enter their Wolfram Alpha App ID using getpass.getpass().\n",
        "import os\n",
        "\n",
        "os.environ[\"WOLFRAM_ALPHA_APPID\"] = getpass.getpass (\"WOLFRAM_ALPHA_APPID\")"
      ],
      "metadata": {
        "colab": {
          "base_uri": "https://localhost:8080/"
        },
        "id": "37-LoXiVtd34",
        "outputId": "3741264d-5249-4f47-ee69-fa550a01b983"
      },
      "execution_count": 4,
      "outputs": [
        {
          "name": "stdout",
          "output_type": "stream",
          "text": [
            "WOLFRAM_ALPHA_APPID··········\n"
          ]
        }
      ]
    },
    {
      "cell_type": "code",
      "source": [
        "# This code block imports the uuid4 function from the uuid module to generate unique identifiers.\n",
        "# It sets the environment variable \"LANGCHAIN_TRACING_V2\" to \"true\" to enable tracing in langchain.\n",
        "# It generates a unique project name using uuid4().hex[0:8] and sets it as the \"LANGCHAIN_PROJECT\" environment variable.\n",
        "# It prompts the user to enter their LangSmith API key using getpass.getpass() and stores it in the \"LANGCHAIN_API_KEY\" environment variable.\n",
        "from uuid import uuid4\n",
        "\n",
        "os.environ[\"LANGCHAIN_TRACING_V2\"] = \"true\"\n",
        "os.environ[\"LANGCHAIN_PROJECT\"] = f\"AIE1 - LangGraph - {uuid4().hex[0:8]}\"\n",
        "os.environ[\"LANGCHAIN_API_KEY\"] = getpass.getpass(\"LangSmith API Key: \")"
      ],
      "metadata": {
        "colab": {
          "base_uri": "https://localhost:8080/"
        },
        "id": "Nv0glIDyHmRt",
        "outputId": "38812772-0075-400d-b329-018b1f8cc0f2"
      },
      "execution_count": 5,
      "outputs": [
        {
          "name": "stdout",
          "output_type": "stream",
          "text": [
            "LangSmith API Key: ··········\n"
          ]
        }
      ]
    },
    {
      "cell_type": "code",
      "source": [
        "# This code block imports necessary classes from langchain and langchain_community libraries.\n",
        "# It uses the ArxivLoader to load a maximum of 5 documents from arXiv related to the query \"CRISPR\".\n",
        "# The loaded documents are then split into chunks using the RecursiveCharacterTextSplitter with a chunk size of 500 characters and an overlap of 50 characters between chunks.\n",
        "# The chunked documents are then used to create a vector store using the FAISS class from langchain_community.\n",
        "# The OpenAIEmbeddings class is used to generate embeddings for the documents using the \"text-embedding-3-small\" model.\n",
        "# Finally, a retriever object is created from the faiss_vectorstore to enable retrieval of relevant documents based on queries.\n",
        "from langchain.text_splitter import RecursiveCharacterTextSplitter\n",
        "from langchain_community.document_loaders import ArxivLoader\n",
        "from langchain_community.vectorstores import FAISS\n",
        "from langchain_openai import OpenAIEmbeddings\n",
        "\n",
        "docs = ArxivLoader(query=\"CRISPR\", load_max_docs=5).load()\n",
        "\n",
        "text_splitter = RecursiveCharacterTextSplitter.from_tiktoken_encoder(\n",
        "    chunk_size=500, chunk_overlap=50\n",
        ")\n",
        "\n",
        "chunked_documents = text_splitter.split_documents(docs)\n",
        "\n",
        "faiss_vectorstore = FAISS.from_documents(\n",
        "    documents=chunked_documents,\n",
        "    embedding=OpenAIEmbeddings(model=\"text-embedding-3-small\"),\n",
        ")\n",
        "\n",
        "retriever = faiss_vectorstore.as_retriever()"
      ],
      "metadata": {
        "id": "g8rnnJbJg8sB"
      },
      "execution_count": 6,
      "outputs": []
    },
    {
      "cell_type": "code",
      "source": [
        "# This code block imports the ChatPromptTemplate class from langchain_core.prompts.\n",
        "# It defines a prompt template named RAG_PROMPT using a multi-line string. The prompt template includes placeholders for the user's question ({question}) and the relevant context ({context}).\n",
        "# The ChatPromptTemplate.from_template() method is used to create a prompt object named rag_prompt from the RAG_PROMPT template.\n",
        "from langchain_core.prompts import ChatPromptTemplate\n",
        "\n",
        "RAG_PROMPT = \"\"\"\\\n",
        "Use the following context to answer the user's query. If you cannot answer the question, please respond with 'I don't know'.\n",
        "\n",
        "Question:\n",
        "{question}\n",
        "\n",
        "Context:\n",
        "{context}\n",
        "\"\"\"\n",
        "\n",
        "rag_prompt = ChatPromptTemplate.from_template(RAG_PROMPT)"
      ],
      "metadata": {
        "id": "gZudebB0it20"
      },
      "execution_count": 7,
      "outputs": []
    },
    {
      "cell_type": "code",
      "source": [
        "# This code block imports the ChatOpenAI class from langchain_openai.\n",
        "# It creates an instance of the ChatOpenAI class named openai_chat_model with the model set to \"gpt-3.5-turbo\".\n",
        "from langchain_openai import ChatOpenAI\n",
        "\n",
        "openai_chat_model = ChatOpenAI(model=\"gpt-3.5-turbo\")"
      ],
      "metadata": {
        "id": "iAU6ilyPfufs"
      },
      "execution_count": 8,
      "outputs": []
    },
    {
      "cell_type": "code",
      "source": [
        "# This code block imports necessary classes and functions from langchain.\n",
        "# It creates a retrieval-augmented generation chain named retrieval_augmented_generation_chain.\n",
        "# The chain is defined using the LCEL (LangChain Expression Language) syntax.\n",
        "# It starts by retrieving the context based on the user's question using the retriever object and the itemgetter function.\n",
        "# The retrieved context is then assigned to the context variable using the RunnablePassthrough.assign() method.\n",
        "# The rag_prompt is then used to generate a response using the openai_chat_model based on the user's question and the retrieved context.\n",
        "from operator import itemgetter\n",
        "from langchain.schema.output_parser import StrOutputParser\n",
        "from langchain.schema.runnable import RunnablePassthrough\n",
        "\n",
        "retrieval_augmented_generation_chain = (\n",
        "    {\"context\": itemgetter(\"question\") | retriever, \"question\": itemgetter(\"question\")}\n",
        "    | RunnablePassthrough.assign(context=itemgetter(\"context\"))\n",
        "    | {\"response\": rag_prompt | openai_chat_model, \"context\": itemgetter(\"context\")}\n",
        ")"
      ],
      "metadata": {
        "id": "Z4itzKufj-OI"
      },
      "execution_count": 9,
      "outputs": []
    },
    {
      "cell_type": "code",
      "source": [
        "# This code block invokes the retrieval_augmented_generation_chain using the ainvoke() method, which is an asynchronous version of the invoke() method.\n",
        "# It passes a dictionary containing the user's question (\"What is CRISPR?\") as the input to the chain.\n",
        "# The chain processes the input, retrieves the relevant context, generates a response using the OpenAI chat model, and returns the generated response.\n",
        "await retrieval_augmented_generation_chain.ainvoke({\"question\" : \"What is CRISPR?\"})"
      ],
      "metadata": {
        "colab": {
          "base_uri": "https://localhost:8080/"
        },
        "id": "ocoqybsjkPXz",
        "outputId": "8bd0746c-0fde-472d-90ba-f40eaa4fb924"
      },
      "execution_count": 10,
      "outputs": [
        {
          "output_type": "execute_result",
          "data": {
            "text/plain": [
              "{'response': AIMessage(content='CRISPR stands for Clustered Regularly Interspaced Short Palindromic Repeats.', response_metadata={'token_usage': {'completion_tokens': 20, 'prompt_tokens': 3043, 'total_tokens': 3063}, 'model_name': 'gpt-3.5-turbo', 'system_fingerprint': 'fp_3bc1b5746c', 'finish_reason': 'stop', 'logprobs': None}),\n",
              " 'context': [Document(page_content='the bacterial genome from foreign mobile elements such as phage and plasmids [11, 50].\\nThe building blocks of CRISPR systems were ﬁrst identiﬁed thirty years ago, when inter-\\nspaced DNA repeats were found in speciﬁc regions of the E. coli genome [30]. Research\\neﬀorts quantiﬁed the variation in these sequences, their lengths and positions, in bacterial\\nand archaea genomes [5, 9, 39] before the name CRISPR was ﬁrst applied [31]. CRISPR\\nsystems have now been identiﬁed in nearly 45% of bacterial strains and have been classiﬁed\\ninto three types that are further divided according to the phylogeny of the CRISPR sequences\\nand their CRISPR-associated (CAS) genes [11]. Moreover, multiple CRISPR-CAS systems\\nexist in several bacterial strains demonstrating that diﬀerent types are compatible with each\\nother within a single cell [16, 57].\\nThe CRISPR adaptive defense mechanism proceeds in three main steps [11]. Firstly, the\\nCRISPR-CAS system requires a speciﬁc sequence in phage DNA known as the protospacer\\nthat is acquired as a spacer into a designated position in the bacterial genome known as the\\nCRISPR-locus, which lies next to the CAS genes [8, 22]. This acquisition is made possible\\nby means of a short conserved sequence, present in the vicinity of protospacers, known as the\\nprotospacer adjecent motif (PAM) [17, 42]. CRISPR-loci have the capacity to store hundreds\\nof spacers in the form of an array, while each spacer in the array is surrounded by short\\npalindromic repeats known as CRISPR-repeats [34]. In the second step, the CRISPR-locus\\nis transcribed and expressed as a single long mRNA that is cleaved into a single spacer and\\npartial repeat known as CRISPR-RNA (crRNA) [24]. Depending upon the type of CRISPR\\nsystem [11, 46], crRNA is associated with a CAS protein which provides a strong response\\n4', metadata={'Published': '2016-03-16', 'Title': 'Mathematical Modeling of CRISPR-CAS system effects on biofilm formation', 'Authors': 'Qasim Ali, Lindi Wahl', 'Summary': 'Clustered Regularly Interspaced Short Palindromic Repeats (CRISPR), linked\\nwith CRISPR associated (CAS) genes, play a profound role in the interactions\\nbetween phage and their bacterial hosts. It is now well understood that\\nCRISPR-CAS systems can confer adaptive immunity against bacteriophage\\ninfections. However, the possibility of failure of CRISPR immunity may lead to\\na productive infection by the phage (cell lysis) or lysogeny. Recently,\\nCRISPR-CAS genes have been implicated in changes to group behaviour, including\\nbiofilm formation, of the bacterium Pseudomonas aeruginosa when lysogenized.\\nFor lysogens with a CRISPR system, another recent experimental study suggests\\nthat bacteriophage re-infection of previously lysogenized bacteria may lead to\\ncell death. Thus CRISPR immunity can have complex effects on phage-host-lysogen\\ninteractions, particularly in a biofilm. In this contribution, we develop and\\nanalyse a series of models to elucidate and disentangle these interactions.\\nFrom a therapeutic standpoint, CRISPR immunity increases biofilm resistance to\\nphage therapy. Our models predict that lysogens may be able to displace\\nCRISPR-immune bacteria in a biofilm, and thus suggest strategies to eliminate\\nphage resistant biofilms.'}),\n",
              "  Document(page_content='system, including anti-CRISPR proteins and their own CRISPR-Cas system. Theoretical\\nwor k and modeling continue to play an integral role in developing a fundamental under-\\n19\\nstanding of the CRISPR-Cas genetic adaptive immune system of prokaryotes and in designing\\napplications in molecular biotechnology and genomic editing.\\nAcknowledgement\\nThis work was partially supported by the Center for Theoretical Biological Physics at\\nRice University, Houston, TX 77005, USA.\\nReferences\\n[1] Eric S. Lander. The heroes of CRISPR. Cell, 164(1–2):18–28, 2016.\\n[2] Francisco J.M. Mojica, Jes´\\nus Garc´\\nıa-Mart´\\nınez, Elena Soria, and Cesar Diez-Villasenor.\\nIntervening sequences of regularly spaced prokaryotic repeats derive from foreign genetic\\nelements. Journal of Molecular Evolution, 60(2):174–182, 2005.\\n[3] Christine Pourcel, Gregory Salvignol, and Gilles Vergnaud.\\nCRISPR elements in\\nYersinia pestis acquire new repeats by preferential uptake of bacteriophage DNA, and\\nprovide additional tools for evolutionary studies. Microbiology, 151(3):653–663, 2005.\\n[4] Alexander Bolotin, Benoit Quinquis, Alexei Sorokin, and S. Dusko Ehrlich. Clustered\\nregularly interspaced short palindrome repeats (CRISPRs) have spacers of extrachro-\\nmosomal origin. Microbiology, 151(8):2551–2561, 2005.\\n[5] Reidun Lillestøl, Peter Redder, Roger A. Garrett, and K.I.M. Br¨\\nugger. A putative viral\\ndefence mechanism in archaeal cells. Archaea, 2(1):59–72, 2006.\\n[6] Rodolphe Barrangou, Christophe Fremaux, H´\\nel`\\nene Deveau, Melissa Richards, Patrick\\nBoyaval, Sylvain Moineau, Dennis A. Romero, and Philippe Horvath. CRISPR provides', metadata={'Published': '2017-11-24', 'Title': \"How the other half lives: CRISPR-Cas's influence on bacteriophages\", 'Authors': 'Melia E. Bonomo, Michael W. Deem', 'Summary': 'CRISPR-Cas is a genetic adaptive immune system unique to prokaryotic cells\\nused to combat phage and plasmid threats. The host cell adapts by incorporating\\nDNA sequences from invading phages or plasmids into its CRISPR locus as\\nspacers. These spacers are expressed as mobile surveillance RNAs that direct\\nCRISPR-associated (Cas) proteins to protect against subsequent attack by the\\nsame phages or plasmids. The threat from mobile genetic elements inevitably\\nshapes the CRISPR loci of archaea and bacteria, and simultaneously the\\nCRISPR-Cas immune system drives evolution of these invaders. Here we highlight\\nour recent work, as well as that of others, that seeks to understand phage\\nmechanisms of CRISPR-Cas evasion and conditions for population coexistence of\\nphages with CRISPR-protected prokaryotes.'}),\n",
              "  Document(page_content='correlation found between the number of CRISPR spacers in Streptococcus thermophilus and\\nthe strain’s sensitivity to phage infection [4] and the lack of CRISPR loci in unthreatened\\nlaboratory strains, led researchers to postulate that these elements constituted a genetic\\nadaptive im mune system shaped by the host’s immediate environment [5].\\nSoon after,\\nCRISPR-mediated phage resistance by the integration of spacers, as well as the loss of resis-\\ntance following the deletion of these crucial spacers, was experimentally demonstrated [6, 7].\\nThough there is a vast variety of these systems [8], the general mechanisms of CRISPR-\\nCas can be divided into three stages of adaptation, expression, and interference, as seen in\\n1\\narXiv:1711.09113v1  [q-bio.PE]  24 Nov 2017\\nFigure 1. Biochemical and structural analyses have investigated the molecular mechanisms\\nand conformational changes of the Cas proteins associated with each of these stages [9]. The\\nhost cell combats phage and plasmid threats in its environment by encoding spacers into\\nits genome from one or multiple DNA sequences of previous invaders, called protospacers.\\nNew spacers are incorporated directly downstream of an AT-rich ‘leader’ sequence, which\\ncharacteristically ﬂanks the start of the locus, and older spacers may be deleted at random.\\nThe sequential ordering of spacer acquisition provides chronological information about the\\norder in which a cell encountered each phage or plasmid. Each spacer is then expressed as\\na mobile surveillance CRISPR RNA (guide crR NA) that contains a single spacer and a\\npartial repeat sequence on one or both sides. In some CRISRP types, an additional trans-\\nactivating CRISPR RNA (tracrRNA) is needed to anchor the crRNA to the Cas surveillance\\nprotein. The guide crRNA directs these Cas proteins to interfere with subsequent threats\\nby targeting and speciﬁcally cleaving the invading DNA sequences, or in less common cases\\nRNA sequences, that match those of the spacers. Speciﬁcity requirements for the recognition', metadata={'Published': '2017-11-24', 'Title': \"How the other half lives: CRISPR-Cas's influence on bacteriophages\", 'Authors': 'Melia E. Bonomo, Michael W. Deem', 'Summary': 'CRISPR-Cas is a genetic adaptive immune system unique to prokaryotic cells\\nused to combat phage and plasmid threats. The host cell adapts by incorporating\\nDNA sequences from invading phages or plasmids into its CRISPR locus as\\nspacers. These spacers are expressed as mobile surveillance RNAs that direct\\nCRISPR-associated (Cas) proteins to protect against subsequent attack by the\\nsame phages or plasmids. The threat from mobile genetic elements inevitably\\nshapes the CRISPR loci of archaea and bacteria, and simultaneously the\\nCRISPR-Cas immune system drives evolution of these invaders. Here we highlight\\nour recent work, as well as that of others, that seeks to understand phage\\nmechanisms of CRISPR-Cas evasion and conditions for population coexistence of\\nphages with CRISPR-protected prokaryotes.'}),\n",
              "  Document(page_content='Reprinted with permission from [11].\\n3\\nClass 1: Type I CRISPR-Cas System\\nAdaptation\\nExpression\\nInterference: \\nSurveillance and target binding\\nInterference: \\nTarget cleavage\\nCas1\\nCas2\\nCas4\\nCas6\\nCas7\\nCas5\\nCas8\\nCas3\\nFigure 2:\\nEach CRISPR-Cas system has a diverse set of Cas protein machinery.\\nFor\\nexample, in the Class 1, Type I systems, Cas1, Cas2, and Cas4 are used to acquire spacers;\\nCas6 processes these spacers into crRNA; a complex of multiple Cas protein subunits is used\\nto surveil the target sequence; and Cas3 is recruited for target cleavage. The seven subtypes\\nfor Type I are I-A, I-B, I-C, I-D, I-E, I-F, and I-U. See Makarova et al., 2015, for the complete\\nCas protein content of other CRISPR systems [8].\\notes was carried out to establish resistance to anticipated phage attacks [17, 18]. A turning\\npoint came in the applications side of the ﬁeld when researchers realized the possibility of\\nharnessing the CRISPR-Cas system to make speciﬁc genomic modiﬁcations in both prokary-\\notic and eukaryotic cells [9, 19]. The Cas9 protein from Type II systems can be re-programed\\nwith a single, custom guide sequence to make speciﬁc genomic cut s for sequence insertions\\nor deletions. Catalytically deactivated Cas9 (dCas9) can furthermore be fused to a pro-\\nmoter or represser to respectively activate (CRISPRa) or interfere (CRISPRi) with targeted\\ngenes [20] and facilitate epigenetic studies [21].\\nThe coevolution of CRISPR-Cas-containing bacteria with plasmids and virulent phages\\ncreates what many call a coevolutionary “arms race.” Mathematical models that have been\\ndeveloped to investigate this coevolution either take a mean ﬁeld approach to model the', metadata={'Published': '2017-11-24', 'Title': \"How the other half lives: CRISPR-Cas's influence on bacteriophages\", 'Authors': 'Melia E. Bonomo, Michael W. Deem', 'Summary': 'CRISPR-Cas is a genetic adaptive immune system unique to prokaryotic cells\\nused to combat phage and plasmid threats. The host cell adapts by incorporating\\nDNA sequences from invading phages or plasmids into its CRISPR locus as\\nspacers. These spacers are expressed as mobile surveillance RNAs that direct\\nCRISPR-associated (Cas) proteins to protect against subsequent attack by the\\nsame phages or plasmids. The threat from mobile genetic elements inevitably\\nshapes the CRISPR loci of archaea and bacteria, and simultaneously the\\nCRISPR-Cas immune system drives evolution of these invaders. Here we highlight\\nour recent work, as well as that of others, that seeks to understand phage\\nmechanisms of CRISPR-Cas evasion and conditions for population coexistence of\\nphages with CRISPR-protected prokaryotes.'})]}"
            ]
          },
          "metadata": {},
          "execution_count": 10
        }
      ]
    },
    {
      "cell_type": "code",
      "source": [
        "# This code block imports various tool classes from the langchain_community library.\n",
        "# It creates a list named tool_belt that contains instances of the following tools:\n",
        "# ArxivQueryRun(): A tool for running queries on the arXiv database.\n",
        "# DuckDuckGoSearchRun(): A tool for performing searches using the DuckDuckGo search engine.\n",
        "# The PubmedQueryRun() and WolframAlphaAPIWrapper() tools are commented out and not included in the tool_belt.\n",
        "\n",
        "# from langchain_community.tools.pubmed.tool import PubmedQueryRun\n",
        "from langchain_community.tools.arxiv.tool import ArxivQueryRun\n",
        "from langchain_community.tools.ddg_search import DuckDuckGoSearchRun\n",
        "# from langchain_community.utilities.wolfram_alpha import WolframAlphaAPIWrapper\n",
        "\n",
        "tool_belt = [\n",
        "    # PubmedQueryRun(),\n",
        "    ArxivQueryRun(),\n",
        "    DuckDuckGoSearchRun(),\n",
        "    # WolframAlphaAPIWrapper(),\n",
        "]"
      ],
      "metadata": {
        "id": "14uqMikwv4kS"
      },
      "execution_count": 11,
      "outputs": []
    },
    {
      "cell_type": "code",
      "source": [
        "# This code block imports the ToolExecutor class from the langgraph.prebuilt module.\n",
        "# It creates an instance of the ToolExecutor class named tool_executor and passes the tool_belt as an argument.\n",
        "# The ToolExecutor is responsible for executing the tools in the tool_belt based on the provided input.\n",
        "from langgraph.prebuilt import ToolExecutor\n",
        "\n",
        "tool_executor = ToolExecutor(tool_belt)"
      ],
      "metadata": {
        "id": "cFr1m80-JZsD"
      },
      "execution_count": 12,
      "outputs": []
    },
    {
      "cell_type": "code",
      "source": [
        "# This code block imports the ChatOpenAI class from the langchain_openai module.\n",
        "# It creates an instance of the ChatOpenAI class named model with the temperature parameter set to 0.\n",
        "# The temperature parameter controls the randomness of the generated responses. A value of 0 means the model will generate deterministic responses.\n",
        "from langchain_openai import ChatOpenAI\n",
        "\n",
        "model = ChatOpenAI(temperature=0)"
      ],
      "metadata": {
        "id": "QkNS8rNZJs4z"
      },
      "execution_count": 13,
      "outputs": []
    },
    {
      "cell_type": "code",
      "source": [
        "# This code block imports the convert_to_openai_function function from the langchain_core.utils.function_calling module.\n",
        "# It creates a list named functions by applying the convert_to_openai_function function to each tool in the tool_belt.\n",
        "# The convert_to_openai_function function converts the tools into a format compatible with OpenAI's function calling API.\n",
        "# It then binds the converted functions to the model using the bind_functions() method, allowing the model to utilize the tools during generation.\n",
        "from langchain_core.utils.function_calling import convert_to_openai_function\n",
        "\n",
        "functions = [convert_to_openai_function(t) for t in tool_belt]\n",
        "model = model.bind_functions(functions)"
      ],
      "metadata": {
        "id": "4OdMqFafZ_0V"
      },
      "execution_count": 14,
      "outputs": []
    },
    {
      "cell_type": "code",
      "source": [
        "# This code block imports necessary types and classes from the typing module and the langchain_core.messages module.\n",
        "# It defines a custom type named AgentState using the TypedDict class from the typing module.\n",
        "# The AgentState type has a field named messages of type Annotated[Sequence[BaseMessage], operator.add].\n",
        "# Sequence[BaseMessage] indicates that messages is a sequence of BaseMessage objects.\n",
        "# Annotated is used to attach metadata to the type, in this case, specifying that the messages field should be treated as a concatenable sequence using the operator.add function.\n",
        "from typing import TypedDict, Annotated, Sequence\n",
        "import operator\n",
        "from langchain_core.messages import BaseMessage\n",
        "\n",
        "class AgentState(TypedDict):\n",
        "  messages: Annotated[Sequence[BaseMessage], operator.add]"
      ],
      "metadata": {
        "id": "mxL9b_NZKUdL"
      },
      "execution_count": 15,
      "outputs": []
    },
    {
      "cell_type": "code",
      "source": [
        "# This code block imports necessary classes and functions from the langgraph.prebuilt, json, and langchain_core.messages modules.\n",
        "# It defines two functions: call_model and call_tool.\n",
        "# The call_model function takes the state as input, extracts the messages from the state, invokes the model with the messages, and returns a dictionary containing the response message.\n",
        "# The call_tool function takes the state as input, extracts the last message from the state, creates a ToolInvocation object using the tool name and arguments from the last message, invokes the tool_executor with the ToolInvocation, creates a FunctionMessage object with the tool response and name, and returns a dictionary containing the FunctionMessage.\n",
        "from langgraph.prebuilt import ToolInvocation\n",
        "import json\n",
        "from langchain_core.messages import FunctionMessage\n",
        "\n",
        "def call_model(state):\n",
        "  messages = state[\"messages\"]\n",
        "  response = model.invoke(messages)\n",
        "  return {\"messages\" : [response]}\n",
        "\n",
        "def call_tool(state):\n",
        "  last_message = state[\"messages\"][-1]\n",
        "\n",
        "  action = ToolInvocation(\n",
        "      tool=last_message.additional_kwargs[\"function_call\"][\"name\"],\n",
        "      tool_input=json.loads(\n",
        "          last_message.additional_kwargs[\"function_call\"][\"arguments\"]\n",
        "      )\n",
        "  )\n",
        "\n",
        "  response = tool_executor.invoke(action)\n",
        "\n",
        "  function_message = FunctionMessage(content=str(response), name=action.tool)\n",
        "\n",
        "  return {\"messages\" : [function_message]}"
      ],
      "metadata": {
        "id": "91flJWtZLUrl"
      },
      "execution_count": 16,
      "outputs": []
    },
    {
      "cell_type": "code",
      "source": [
        "# This code block imports the StateGraph and END classes from the langgraph.graph module.\n",
        "# It creates an instance of the StateGraph class named workflow with the AgentState type.\n",
        "# It adds two nodes to the workflow using the add_node() method:\n",
        "# The \"agent\" node is associated with the call_model function.\n",
        "# The \"action\" node is associated with the call_tool function.\n",
        "from langgraph.graph import StateGraph, END\n",
        "\n",
        "workflow = StateGraph(AgentState)\n",
        "\n",
        "workflow.add_node(\"agent\", call_model)\n",
        "workflow.add_node(\"action\", call_tool)"
      ],
      "metadata": {
        "id": "_vF4_lgtmQNo"
      },
      "execution_count": 17,
      "outputs": []
    },
    {
      "cell_type": "code",
      "source": [
        "# This code block sets the entry point of the workflow to the \"agent\" node using the set_entry_point() method.\n",
        "# The entry point determines the starting node of the workflow when it is executed.\n",
        "workflow.set_entry_point(\"agent\")"
      ],
      "metadata": {
        "id": "YGCbaYqRnmiw"
      },
      "execution_count": 18,
      "outputs": []
    },
    {
      "cell_type": "code",
      "source": [
        "# This code block defines a function named should_continue that takes the state as input.\n",
        "# The should_continue function checks the last message in the state to determine whether to continue or end the workflow.\n",
        "# If the last message does not have a \"function_call\" in its additional_kwargs, it returns \"end\".\n",
        "# Otherwise, it returns \"continue\".\n",
        "# It adds conditional edges to the workflow using the add_conditional_edges() method.\n",
        "# The conditional edges originate from the \"agent\" node and are based on the should_continue function.\n",
        "# If the should_continue function returns \"continue\", the workflow transitions to the \"action\" node.\n",
        "# If the should_continue function returns \"end\", the workflow transitions to the END node, indicating the end of the workflow.\n",
        "def should_continue(state):\n",
        "  last_message = state[\"messages\"][-1]\n",
        "\n",
        "  if \"function_call\" not in last_message.additional_kwargs:\n",
        "    return \"end\"\n",
        "\n",
        "  return \"continue\"\n",
        "\n",
        "workflow.add_conditional_edges(\n",
        "    \"agent\",\n",
        "    should_continue,\n",
        "    {\n",
        "        \"continue\" : \"action\",\n",
        "        \"end\" : END\n",
        "    }\n",
        ")"
      ],
      "metadata": {
        "id": "1BZgb81VQf9o"
      },
      "execution_count": 19,
      "outputs": []
    },
    {
      "cell_type": "code",
      "source": [
        "# This code block adds an edge to the workflow using the add_edge() method.\n",
        "# The edge connects the \"action\" node to the \"agent\" node, indicating that after executing the \"action\" node, the workflow should transition back to the \"agent\" node.\n",
        "workflow.add_edge(\"action\", \"agent\")"
      ],
      "metadata": {
        "id": "UvcgbHf1rIXZ"
      },
      "execution_count": 20,
      "outputs": []
    },
    {
      "cell_type": "code",
      "source": [
        "# This code block compiles the workflow using the compile() method.\n",
        "# The compile() method prepares the workflow for execution by optimizing and validating the graph structure.\n",
        "# The compiled workflow is assigned to the variable app, which can be used to invoke the workflow with input data.\n",
        "app = workflow.compile()"
      ],
      "metadata": {
        "id": "zt9-KS8DpzNx"
      },
      "execution_count": 21,
      "outputs": []
    },
    {
      "cell_type": "code",
      "source": [
        "# This code block imports the HumanMessage class from the langchain_core.messages module.\n",
        "# It creates a dictionary named inputs containing a list of messages, which in this case consists of a single HumanMessage with the content \"What is the fundamental mechanism behind CRISPR-Cas9 gene editing, and how does it differ from other gene editing techniques?\".\n",
        "# It invokes the compiled workflow app using the invoke() method, passing the inputs dictionary as an argument.\n",
        "# The workflow processes the input message, executes the defined nodes and edges, and returns the generated response.\n",
        "from langchain_core.messages import HumanMessage\n",
        "\n",
        "inputs = {\"messages\" : [HumanMessage(content=\"What is the fundamental mechanism behind CRISPR-Cas9 gene editing, and how does it differ from other gene editing techniques?\")]}\n",
        "\n",
        "app.invoke(inputs)"
      ],
      "metadata": {
        "colab": {
          "base_uri": "https://localhost:8080/"
        },
        "id": "Qn4n37PQRPII",
        "outputId": "4ae2d51a-418c-482f-bdce-cbfc3c61ad20"
      },
      "execution_count": 22,
      "outputs": [
        {
          "output_type": "execute_result",
          "data": {
            "text/plain": [
              "{'messages': [HumanMessage(content='What is the fundamental mechanism behind CRISPR-Cas9 gene editing, and how does it differ from other gene editing techniques?'),\n",
              "  AIMessage(content='', additional_kwargs={'function_call': {'arguments': '{\"query\":\"CRISPR-Cas9 gene editing mechanism\"}', 'name': 'arxiv'}}, response_metadata={'token_usage': {'completion_tokens': 22, 'prompt_tokens': 177, 'total_tokens': 199}, 'model_name': 'gpt-3.5-turbo', 'system_fingerprint': 'fp_3bc1b5746c', 'finish_reason': 'function_call', 'logprobs': None}),\n",
              "  FunctionMessage(content='Published: 2009-01-20\\nTitle: Quantum effects in optomechanical systems\\nAuthors: C. Genes, A. Mari, D. Vitali, P. Tombesi\\nSummary: The search for experimental demonstrations of the quantum behavior of\\nmacroscopic mechanical resonators is a fastly growing field of investigation\\nand recent results suggest that the generation of quantum states of resonators\\nwith a mass at the microgram scale is within reach. In this chapter we give an\\noverview of two important topics within this research field: cooling to the\\nmotional ground state, and the generation of entanglement involving mechanical,\\noptical and atomic degrees of freedom. We focus on optomechanical systems where\\nthe resonator is coupled to one or more driven cavity modes by the radiation\\npressure interaction. We show that robust stationary entanglement between the\\nmechanical resonator and the output fields of the cavity can be generated, and\\nthat this entanglement can be transferred to atomic ensembles placed within the\\ncavity. These results show that optomechanical devices are interesting\\ncandidates for the realization of quantum memories and interfaces for\\ncontinuous variable quantum communication networks.\\n\\nPublished: 2012-11-12\\nTitle: Nonclassical States of Light and Mechanics\\nAuthors: Klemens Hammerer, Claudiu Genes, David Vitali, Paolo Tombesi, Gerard Milburn, Christoph Simon, Dirk Bouwmeester\\nSummary: This book chapter reports on theoretical protocols for generating\\nnonclassical states of light and mechanics. Nonclassical states are understood\\nas squeezed states, entangled states or states with negative Wigner function,\\nand the nonclassicality can refer either to light, to mechanics, or to both,\\nlight and mechanics. In all protocols nonclassicallity arises from a strong\\noptomechanical coupling. Some protocols rely in addition on homodyne detection\\nor photon counting of light.\\n\\nPublished: 2006-09-13\\nTitle: Gene cluster analysis method reliably identifies horizontally transferred genes and reveals their involvement in operon formation\\nAuthors: Keiichi Homma, Satoshi Fukuchi, Yoji Nakamura, Takashi Gojobori, Ken Nishikawa\\nSummary: The formation mechanism of operons remains controversial despite the proposal\\nof many models. Although acquisition of genes from other species, horizontal\\ngene transfer, is considered to occur, definitive concrete cases have been\\nunavailable. It is desirable to select horizontally transferred genes reliably\\nand examine their relationship to operons. We here developed a method to\\nidentify candidates of horizontally transferred genes based on minimization of\\ngene cluster insertions/deletions. To select a benchmark set of positively\\nhorizontally transferred genes against which the candidate set can be\\nappraised, we devised another procedure using intergenetic alignments.\\nComparison with the benchmark set of horizontally transferred genes\\ndemonstrated the absence of a significant number of false positives in the\\ncandidates, showing that the method identifies horizontally transferred genes\\nwith a high degree of confidence. Horizontally transferred genes constitute at\\nleast 5.5% of the genes in Escherichia, Shigella, and Salmonella and ~46% of\\nwhich originate from other gamma-proteobacteria. Not only informational genes,\\nbut also operational genes (those involved in housekeeping) are horizontally\\ntransferred less frequently than expected. A gene-cluster analysis of\\nEscherichia coli K-12 operons revealed that horizontal transfer produced four\\nentire operons and expanded two operons, but deletion of intervening genes\\naccounts for the formation of no operons. We propose that operons generally\\nform by horizontal gene transfer. We further suggest that genes with related\\nessential functions tend to reside in conserved operons, while genes in\\nnonconserved operons generally confer slight advantage to the organisms and\\nfrequently undergo horizontal transfer and decay.', name='arxiv'),\n",
              "  AIMessage(content=\"The search results did not provide information specifically about the fundamental mechanism behind CRISPR-Cas9 gene editing. Let me provide you with a brief explanation:\\n\\nCRISPR-Cas9 is a gene editing technique that utilizes a naturally occurring system in bacteria to make precise changes to the DNA of other organisms. The fundamental mechanism behind CRISPR-Cas9 gene editing involves two key components: the Cas9 protein and a guide RNA (gRNA). \\n\\n1. Cas9 Protein: The Cas9 protein acts as a molecular scissor that can cut the DNA at a specific location determined by the gRNA.\\n\\n2. Guide RNA (gRNA): The gRNA is a short RNA sequence that is designed to be complementary to the target DNA sequence. It guides the Cas9 protein to the specific location on the DNA where it needs to make a cut.\\n\\nOnce the Cas9 protein is guided to the target DNA sequence by the gRNA, it creates a double-strand break in the DNA. The cell's natural DNA repair mechanisms then come into play to either introduce desired genetic changes (such as gene knockout, gene insertion, or gene correction) or disrupt the function of a specific gene.\\n\\nCompared to other gene editing techniques, CRISPR-Cas9 is known for its simplicity, efficiency, and precision. It allows researchers to target specific genes with high accuracy and make changes to the DNA more easily than traditional gene editing methods like zinc finger nucleases or TALENs. Additionally, CRISPR-Cas9 is more cost-effective and versatile, making it a widely used tool in genetic research and biotechnology.\\n\\nIf you have any more questions or need further clarification, feel free to ask!\", response_metadata={'token_usage': {'completion_tokens': 341, 'prompt_tokens': 1013, 'total_tokens': 1354}, 'model_name': 'gpt-3.5-turbo', 'system_fingerprint': 'fp_3bc1b5746c', 'finish_reason': 'stop', 'logprobs': None})]}"
            ]
          },
          "metadata": {},
          "execution_count": 22
        }
      ]
    },
    {
      "cell_type": "code",
      "source": [
        "# This code block defines two functions: convert_state_to_query and convert_response_to_state.\n",
        "# The convert_state_to_query function takes a state_object as input, extracts the last message's content from the state, and returns a dictionary with the key \"question\" and the extracted content as the value.\n",
        "# The convert_response_to_state function takes a response as input and returns a dictionary with the key \"messages\" and a list containing the \"response\" field of the input response.\n",
        "# It creates a new chain named langgraph_node_rag_chain by composing the convert_state_to_query function, the retrieval_augmented_generation_chain, and the convert_response_to_state function using the | operator.\n",
        "# The resulting langgraph_node_rag_chain takes a state object as input, converts it to a query, passes it through the retrieval-augmented generation chain, and converts the response back to a state object.\n",
        "def convert_state_to_query(state_object):\n",
        "  return {\"question\" : state_object[\"messages\"][-1].content}\n",
        "\n",
        "def convert_response_to_state(response):\n",
        "  return {\"messages\" : [response[\"response\"]]}\n",
        "\n",
        "langgraph_node_rag_chain = convert_state_to_query | retrieval_augmented_generation_chain | convert_response_to_state"
      ],
      "metadata": {
        "id": "MlCwP-iXojru"
      },
      "execution_count": 23,
      "outputs": []
    },
    {
      "cell_type": "code",
      "source": [
        "# This code block invokes the langgraph_node_rag_chain using the ainvoke() method, which is an asynchronous version of the invoke() method.\n",
        "# It passes the inputs dictionary as an argument to the ainvoke() method.\n",
        "# The langgraph_node_rag_chain processes the input state, converts it to a query, generates a response using the retrieval-augmented generation chain, converts the response back to a state object, and returns the resulting state.\n",
        "await langgraph_node_rag_chain.ainvoke(inputs)"
      ],
      "metadata": {
        "colab": {
          "base_uri": "https://localhost:8080/"
        },
        "id": "2ku8Vk0krNU_",
        "outputId": "5ccc1304-abfe-46c2-ce10-bff5ff725d9e"
      },
      "execution_count": 24,
      "outputs": [
        {
          "output_type": "execute_result",
          "data": {
            "text/plain": [
              "{'messages': [AIMessage(content='The fundamental mechanism behind CRISPR-Cas9 gene editing involves using a single, custom guide sequence to re-program the Cas9 protein to make specific genomic cuts for sequence insertions or deletions. This differs from other gene editing techniques in its simplicity and specificity, allowing for precise modifications to be made in both prokaryotic and eukaryotic cells.', response_metadata={'token_usage': {'completion_tokens': 73, 'prompt_tokens': 3510, 'total_tokens': 3583}, 'model_name': 'gpt-3.5-turbo', 'system_fingerprint': 'fp_3bc1b5746c', 'finish_reason': 'stop', 'logprobs': None})]}"
            ]
          },
          "metadata": {},
          "execution_count": 24
        }
      ]
    },
    {
      "cell_type": "code",
      "source": [
        "# This code block creates a new instance of the StateGraph class named rag_agent with the AgentState type.\n",
        "# It adds three nodes to the rag_agent graph using the add_node() method:\n",
        "# The \"agent\" node is associated with the call_model function.\n",
        "# The \"action\" node is associated with the call_tool function.\n",
        "# The \"first_action\" node is associated with the langgraph_node_rag_chain chain.\n",
        "rag_agent = StateGraph(AgentState)\n",
        "\n",
        "rag_agent.add_node(\"agent\", call_model)\n",
        "rag_agent.add_node(\"action\", call_tool)\n",
        "rag_agent.add_node(\"first_action\", langgraph_node_rag_chain)"
      ],
      "metadata": {
        "id": "RvMuxumArtT7"
      },
      "execution_count": 25,
      "outputs": []
    },
    {
      "cell_type": "code",
      "source": [
        "# This code block sets the entry point of the rag_agent graph to the \"first_action\" node using the set_entry_point() method.\n",
        "# The entry point determines the starting node of the graph when it is executed.\n",
        "rag_agent.set_entry_point(\"first_action\")"
      ],
      "metadata": {
        "id": "UpHI3VhDr72t"
      },
      "execution_count": 26,
      "outputs": []
    },
    {
      "cell_type": "code",
      "source": [
        "# This code block defines a function named is_fully_answered that takes the state as input.\n",
        "# The function extracts the question and answer from the state messages.\n",
        "# It defines a Pydantic model named answered with a single field binary_score of type string, which represents whether the question is fully answered or not.\n",
        "# It creates an instance of the ChatOpenAI class with the model set to \"gpt-4-turbo-preview\" and temperature set to 0.\n",
        "# It converts the answered model to an OpenAI tool using the convert_to_openai_tool function.\n",
        "# It binds the converted answered_tool to the model using the bind() method, specifying the tool choice as a function with the name \"answered\".\n",
        "# It creates a PydanticToolsParser instance with the answered tool.\n",
        "# It defines a prompt template using the PromptTemplate class, which asks whether the question is fully answered by the response.\n",
        "# It creates a classic LCEL chain named fully_answered_chain by composing the prompt, model, and parser tool using the | operator.\n",
        "# It invokes the fully_answered_chain with the question and answer as input.\n",
        "# If the binary score of the response is \"no\", it returns \"continue\"; otherwise, it returns \"end\".\n",
        "from langchain.prompts import PromptTemplate\n",
        "from langchain_core.pydantic_v1 import BaseModel, Field\n",
        "from langchain.output_parsers.openai_tools import PydanticToolsParser\n",
        "from langchain_core.utils.function_calling import convert_to_openai_tool\n",
        "\n",
        "def is_fully_answered(state):\n",
        "\n",
        "\n",
        "  question = state[\"messages\"][0].content\n",
        "  answer = state[\"messages\"][-1].content\n",
        "\n",
        "\n",
        "  class answered(BaseModel):\n",
        "    binary_score: str = Field(description=\"Fully answered: 'yes' or 'no'\")\n",
        "\n",
        "\n",
        "  model = ChatOpenAI(model=\"gpt-4-turbo-preview\", temperature=0)\n",
        "\n",
        "\n",
        "  answered_tool = convert_to_openai_tool(answered)\n",
        "\n",
        "  model = model.bind(\n",
        "      tools=[answered_tool],\n",
        "      tool_choice={\"type\" : \"function\", \"function\" : {\"name\" : \"answered\"}}\n",
        "  )\n",
        "\n",
        "\n",
        "  parser_tool = PydanticToolsParser(tools=[answered])\n",
        "\n",
        "  prompt = PromptTemplate(\n",
        "      template=\"\"\"You will determine if the question is fully answered by the response.\\n\n",
        "      Question:\n",
        "      {question}\n",
        "\n",
        "      Response:\n",
        "      {answer}\n",
        "\n",
        "      You will respond with either 'yes' or 'no'.\"\"\",\n",
        "      input_variables=[\"question\", \"answer\"])\n",
        "\n",
        "\n",
        "  fully_answered_chain = prompt | model | parser_tool\n",
        "\n",
        "  response = fully_answered_chain.invoke({\"question\" : question, \"answer\" : answer})\n",
        "\n",
        "  if response[0].binary_score == \"no\":\n",
        "    return \"continue\"\n",
        "\n",
        "  return \"end\""
      ],
      "metadata": {
        "id": "Z-QZVNURvDTe"
      },
      "execution_count": 27,
      "outputs": []
    },
    {
      "cell_type": "code",
      "source": [
        "# This code block adds conditional edges to the rag_agent graph using the add_conditional_edges() method.\n",
        "# The conditional edges originate from the \"first_action\" node and are based on the is_fully_answered function.\n",
        "# If the is_fully_answered function returns \"continue\", the graph transitions to the \"agent\" node.\n",
        "# If the is_fully_answered function returns \"end\", the graph transitions to the END node, indicating the end of the graph execution.\n",
        "rag_agent.add_conditional_edges(\n",
        "    \"first_action\",\n",
        "    is_fully_answered,\n",
        "    {\n",
        "        \"continue\" : \"agent\",\n",
        "        \"end\" : END\n",
        "    }\n",
        ")"
      ],
      "metadata": {
        "id": "R83jwrx8xKVf"
      },
      "execution_count": 28,
      "outputs": []
    },
    {
      "cell_type": "code",
      "source": [
        "# This code block defines a function named should_continue that takes the state as input.\n",
        "# The should_continue function checks the last message in the state to determine whether to continue or end the graph execution.\n",
        "# If the last message does not have a \"function_call\" in its additional_kwargs, it returns \"end\".\n",
        "# Otherwise, it returns \"continue\".\n",
        "# It adds conditional edges to the rag_agent graph using the add_conditional_edges() method.\n",
        "# The conditional edges originate from the \"agent\" node and are based on the should_continue function.\n",
        "# If the should_continue function returns \"continue\", the graph transitions to the \"action\" node.\n",
        "# If the should_continue function returns \"end\", the graph transitions to the END node, indicating the end of the graph execution.\n",
        "def should_continue(state):\n",
        "  last_message = state[\"messages\"][-1]\n",
        "\n",
        "  if \"function_call\" not in last_message.additional_kwargs:\n",
        "    return \"end\"\n",
        "\n",
        "  return \"continue\"\n",
        "\n",
        "rag_agent.add_conditional_edges(\n",
        "    \"agent\",\n",
        "    should_continue,\n",
        "    {\n",
        "        \"continue\" : \"action\",\n",
        "        \"end\" : END\n",
        "    }\n",
        ")"
      ],
      "metadata": {
        "id": "WD8wC2W6r_tb"
      },
      "execution_count": 29,
      "outputs": []
    },
    {
      "cell_type": "code",
      "source": [
        "# This code block adds an edge to the rag_agent graph using the add_edge() method.\n",
        "# The edge connects the \"action\" node to the \"agent\" node, indicating that after executing the \"action\" node, the graph should transition back to the \"agent\" node.\n",
        "rag_agent.add_edge(\"action\", \"agent\")"
      ],
      "metadata": {
        "id": "qvQzFbtJsDrE"
      },
      "execution_count": 30,
      "outputs": []
    },
    {
      "cell_type": "code",
      "source": [
        "# This code block compiles the rag_agent graph using the compile() method.\n",
        "# The compile() method prepares the graph for execution by optimizing and validating the graph structure.\n",
        "# The compiled graph is assigned to the variable rag_agent_app, which can be used to invoke the graph with input data.\n",
        "rag_agent_app = rag_agent.compile()"
      ],
      "metadata": {
        "id": "Bgho8n0QsO_s"
      },
      "execution_count": 31,
      "outputs": []
    },
    {
      "cell_type": "code",
      "source": [
        "# This code block defines a question string: \"INSERT A QUESTION\".\n",
        "# It creates a dictionary named inputs containing a list of messages, which consists of a single HumanMessage with the content set to the defined question.\n",
        "# It invokes the compiled rag_agent_app using the invoke() method, passing the inputs dictionary as an argument.\n",
        "# The rag_agent_app processes the input message, executes the defined nodes and edges based on the graph structure, and returns the generated response.\n",
        "question = \"Who won the Nobel Prize for their work with CRISPR?\"\n",
        "\n",
        "inputs = {\"messages\" : [HumanMessage(content=question)]}\n",
        "\n",
        "rag_agent_app.invoke(inputs)"
      ],
      "metadata": {
        "colab": {
          "base_uri": "https://localhost:8080/"
        },
        "id": "sItf-jgY1rMU",
        "outputId": "010f8aa6-b8fa-49ff-fccc-ddf46992ccce"
      },
      "execution_count": 32,
      "outputs": [
        {
          "output_type": "execute_result",
          "data": {
            "text/plain": [
              "{'messages': [HumanMessage(content='Who won the Nobel Prize for their work with CRISPR?'),\n",
              "  AIMessage(content=\"I don't know.\", response_metadata={'token_usage': {'completion_tokens': 5, 'prompt_tokens': 3080, 'total_tokens': 3085}, 'model_name': 'gpt-3.5-turbo', 'system_fingerprint': 'fp_3bc1b5746c', 'finish_reason': 'stop', 'logprobs': None}),\n",
              "  AIMessage(content='', additional_kwargs={'function_call': {'arguments': '{\"query\":\"Nobel Prize winner for CRISPR\"}', 'name': 'duckduckgo_search'}}, response_metadata={'token_usage': {'completion_tokens': 24, 'prompt_tokens': 173, 'total_tokens': 197}, 'model_name': 'gpt-3.5-turbo', 'system_fingerprint': 'fp_3bc1b5746c', 'finish_reason': 'function_call', 'logprobs': None}),\n",
              "  FunctionMessage(content='The approval of the first Crispr-based therapy is just the beginning. Getting it to patients is the next hurdle. ... Berkeley, who shared the Nobel Prize in Chemistry in 2020 for her role in the ... 4) The 2020 Nobel For The Hepatitis C virus. Before the discovery made by Harvey J. Alter, Michael Houghton and Charles M. Rice, hepatitis A and B were known, but \"the majority of blood-borne ... Right now, though, it\\'s still a rarefied treatment. \"It\\'s expensive,\" Jennifer Doudna, the pioneering biochemist who won a Nobel Prize in 2020 for her work on Crispr, told WIRED\\'s Emily ... CRISPR, it turns out, is a genetic scalpel that slices and dices invader DNA with remarkable precision. ... In 2012, future Nobel Prize winners Jennifer Doudna and Emmanuelle Charpentier cleaved ... A Brief But Spectacular take on the future of CRISPR. Apr 17, 2023 6:20 PM EST. By —. Ana Davila. Leave your feedback. Transcript Audio. Jennifer Doudna is a Nobel laureate in chemistry and ...', name='duckduckgo_search'),\n",
              "  AIMessage(content='Jennifer Doudna won the Nobel Prize in Chemistry in 2020 for her work on CRISPR.', response_metadata={'token_usage': {'completion_tokens': 23, 'prompt_tokens': 457, 'total_tokens': 480}, 'model_name': 'gpt-3.5-turbo', 'system_fingerprint': 'fp_3bc1b5746c', 'finish_reason': 'stop', 'logprobs': None})]}"
            ]
          },
          "metadata": {},
          "execution_count": 32
        }
      ]
    },
    {
      "cell_type": "code",
      "source": [
        "# This code block defines another question string: \"INSERT A QUESTION\".\n",
        "# It creates a dictionary named inputs containing a list of messages, which consists of a single HumanMessage with the content set to the defined question.\n",
        "# It invokes the compiled rag_agent_app using the invoke() method, passing the inputs dictionary as an argument.\n",
        "# The rag_agent_app processes the input message, executes the defined nodes and edges based on the graph structure, and returns the generated response.\n",
        "question = \"Who won the Nobel Prize for their work with CRISPR and what University did they attend?\"\n",
        "\n",
        "inputs = {\"messages\" : [HumanMessage(content=question)]}\n",
        "\n",
        "rag_agent_app.invoke(inputs)"
      ],
      "metadata": {
        "colab": {
          "base_uri": "https://localhost:8080/"
        },
        "id": "RzQY4SSvsSE1",
        "outputId": "c6255819-ee37-4b07-8c68-628e3f9ee0d1"
      },
      "execution_count": 34,
      "outputs": [
        {
          "output_type": "execute_result",
          "data": {
            "text/plain": [
              "{'messages': [HumanMessage(content='Who won the Nobel Prize for their work with CRISPR and what University did they attend?'),\n",
              "  AIMessage(content=\"I don't know.\", response_metadata={'token_usage': {'completion_tokens': 5, 'prompt_tokens': 3091, 'total_tokens': 3096}, 'model_name': 'gpt-3.5-turbo', 'system_fingerprint': 'fp_3bc1b5746c', 'finish_reason': 'stop', 'logprobs': None}),\n",
              "  AIMessage(content='', additional_kwargs={'function_call': {'arguments': '{\"query\":\"Nobel Prize winner for CRISPR and their University\"}', 'name': 'duckduckgo_search'}}, response_metadata={'token_usage': {'completion_tokens': 27, 'prompt_tokens': 179, 'total_tokens': 206}, 'model_name': 'gpt-3.5-turbo', 'system_fingerprint': 'fp_3bc1b5746c', 'finish_reason': 'function_call', 'logprobs': None}),\n",
              "  FunctionMessage(content=\"This year's Nobel Prize in Physiology or Medicine goes to a transformative medical technology that significantly altered the path of the pandemic and saved millions: the mRNA vaccines against COVID. Daniel Kahneman, the Nobel Prize-winning psychologist who pioneered theories in behavioral economics, has died. He was 90. He died peacefully on Wednesday, according to a release from Princeton ... The Nobel laureates behind mRNA COVID vaccines 07:11. At the University of Pennsylvania Medical School, Drew Weissman and Katalin Karikó (known as Kati) met by chance at a copy machine in 1998. For instance, Emmanuelle Charpentier and Jennifer Doudna won the Nobel Prize for chemistry in 2020 a mere eight years after the researchers published a description of the genetic scissors CRISPR ... The prestigious prize was awarded jointly to Prof Katalin Karikó (Szeged University and University of Pennsylvania) and Prof Drew Weissman (Penn Institute for RNA Innovations, University of Pennsylvania) for their discoveries concerning nucleoside base modifications that enabled the development of effective mRNA vaccines against COVID-19.\", name='duckduckgo_search'),\n",
              "  AIMessage(content='The Nobel Prize for their work with CRISPR was awarded jointly to Prof Katalin Karikó and Prof Drew Weissman. Katalin Karikó attended Szeged University and the University of Pennsylvania, while Drew Weissman is affiliated with the Penn Institute for RNA Innovations at the University of Pennsylvania.', response_metadata={'token_usage': {'completion_tokens': 65, 'prompt_tokens': 440, 'total_tokens': 505}, 'model_name': 'gpt-3.5-turbo', 'system_fingerprint': 'fp_3bc1b5746c', 'finish_reason': 'stop', 'logprobs': None})]}"
            ]
          },
          "metadata": {},
          "execution_count": 34
        }
      ]
    },
    {
      "cell_type": "markdown",
      "source": [
        "CRISPR Questions:\n",
        "1.\tWhat are the potential therapeutic applications of CRISPR-Cas9, and which genetic disorders are currently being targeted in clinical trials?\n",
        "2.\tHow has the discovery of CRISPR-Cas9 revolutionized the field of gene editing, and what are the key advantages of this technology compared to previous gene editing methods?\n",
        "3.\tWhat are the ethical concerns surrounding the use of CRISPR-Cas9 for germline editing, and how are regulatory bodies and the scientific community addressing these issues?\n",
        "4.\tHow does the CRISPR-Cas9 system differ from other CRISPR-Cas variants, such as CRISPR-Cas12a and CRISPR-Cas13, and what are the unique advantages and applications of each system?\n",
        "5.\tWhat are the challenges and limitations of using CRISPR-Cas9 for gene editing in humans, and what strategies are being developed to overcome these obstacles and improve the safety and efficacy of CRISPR-based therapies?\n",
        "1.\tHow has CRISPR-Cas9 been used to develop novel diagnostic tools for infectious diseases, and what are some examples of CRISPR-based diagnostic platforms currently in development or clinical use?\n",
        "2.\tWhat are the potential agricultural applications of CRISPR-Cas9, and how can this technology be used to improve crop yields, enhance nutrient content, and confer resistance to pests and environmental stressors?\n",
        "3.\tHow have researchers combined CRISPR-Cas9 with other technologies, such as single-cell sequencing and high-throughput screening, to advance our understanding of complex biological systems and disease mechanisms?\n",
        "4.\tWhat are the current limitations and challenges associated with the delivery of CRISPR-Cas9 components into target cells, and what strategies are being explored to improve the efficiency and specificity of CRISPR delivery?\n",
        "5.\tHow are researchers and biotech companies working to develop CRISPR-based therapies for cancer, and what are some of the key targets and approaches being investigated in preclinical and clinical studies?\n"
      ],
      "metadata": {
        "id": "UrdaP7s9iqUb"
      }
    },
    {
      "cell_type": "code",
      "source": [
        "# This code block defines another question string: \"INSERT A QUESTION\".\n",
        "# It creates a dictionary named inputs containing a list of messages, which consists of a single HumanMessage with the content set to the defined question.\n",
        "# It invokes the compiled rag_agent_app using the invoke() method, passing the inputs dictionary as an argument.\n",
        "# The rag_agent_app processes the input message, executes the defined nodes and edges based on the graph structure, and returns the generated response.\n",
        "question = \"What city is the capital of Illinois?\"\n",
        "inputs = {\"messages\" : [HumanMessage(content=question)]}\n",
        "\n",
        "rag_agent_app.invoke(inputs)"
      ],
      "metadata": {
        "colab": {
          "base_uri": "https://localhost:8080/"
        },
        "id": "yVOASLwY3VfQ",
        "outputId": "070a20c4-625b-45b4-d5fc-7101b05d33e7"
      },
      "execution_count": 35,
      "outputs": [
        {
          "output_type": "execute_result",
          "data": {
            "text/plain": [
              "{'messages': [HumanMessage(content='What city is the capital of Illinois?'),\n",
              "  AIMessage(content=\"I don't know.\", response_metadata={'token_usage': {'completion_tokens': 5, 'prompt_tokens': 3427, 'total_tokens': 3432}, 'model_name': 'gpt-3.5-turbo', 'system_fingerprint': 'fp_b28b39ffa8', 'finish_reason': 'stop', 'logprobs': None}),\n",
              "  AIMessage(content='', additional_kwargs={'function_call': {'arguments': '{\"query\":\"capital of Illinois\"}', 'name': 'duckduckgo_search'}}, response_metadata={'token_usage': {'completion_tokens': 19, 'prompt_tokens': 168, 'total_tokens': 187}, 'model_name': 'gpt-3.5-turbo', 'system_fingerprint': 'fp_3bc1b5746c', 'finish_reason': 'function_call', 'logprobs': None}),\n",
              "  FunctionMessage(content=\"Springfield is the capital city of the U.S. state of Illinois and the county seat of Sangamon County.The city's population was 114,394 at the 2020 census, which makes it the state's seventh most-populous city, the second largest outside of the Chicago metropolitan area (after Rockford), and the largest in central Illinois.Approximately 208,000 residents live in the Springfield metropolitan area. Springfield, city, seat (1821) of Sangamon county and capital of Illinois, U.S. Lying along the Sangamon River in the central part of the state, Springfield is situated about 100 miles (160 km) northeast of St. Louis, Missouri, and some 185 miles (300 km) southwest of Chicago. Settlement of the Illinois was named for the Illinois Indians. The capital is Springfield, in the west-central part of the state. Chicago. Admitted as the 21st member of the union on December 3, 1818, Illinois lies within both the so-called old industrial belt and the fertile agricultural heart of the country. The presence of Chicago, one of the country's most ... Illinois is a state in the Midwestern United States, bordered by Wisconsin, Indiana, Iowa, Missouri, Kentucky, Missouri, Wisconsin and Lake Michigan. The capital city of Illinois is Springfield, located in the northeastern part of the state along the Sangamon River. The largest city and the 3rd most populous city in the US is Chicago, located in the northeastern part of the state along Lake Michigan. Illinois has a population of 12.6 million people (est. 2019) , the capital city is Springfield. The state's primate city is Chicago ; its largest metro is the Chicago metropolitan area (Chicago-Naperville-Michigan City, aka Chicagoland).\", name='duckduckgo_search'),\n",
              "  AIMessage(content='The capital city of Illinois is Springfield.', response_metadata={'token_usage': {'completion_tokens': 9, 'prompt_tokens': 566, 'total_tokens': 575}, 'model_name': 'gpt-3.5-turbo', 'system_fingerprint': 'fp_b28b39ffa8', 'finish_reason': 'stop', 'logprobs': None})]}"
            ]
          },
          "metadata": {},
          "execution_count": 35
        }
      ]
    }
  ]
}